{
 "cells": [
  {
   "cell_type": "code",
   "execution_count": null,
   "metadata": {},
   "outputs": [],
   "source": [
    "!pip install nltk"
   ]
  },
  {
   "cell_type": "code",
   "execution_count": 1,
   "metadata": {},
   "outputs": [],
   "source": [
    "import pandas as pd\n",
    "import re\n",
    "import numpy as np\n",
    "import nltk\n",
    "from nltk.corpus import stopwords\n",
    "import gensim\n",
    "from sklearn.metrics.pairwise import cosine_similarity"
   ]
  },
  {
   "cell_type": "code",
   "execution_count": 8,
   "metadata": {},
   "outputs": [],
   "source": [
    "# Sample corpus\n",
    "documents = ['Machine learning is the study of computer algorithms that improve automatically through experience.\\\n",
    "Machine learning algorithms build a mathematical model based on sample data, known as training data.\\\n",
    "The discipline of machine learning employs various approaches to teach computers to accomplish tasks \\\n",
    "where no fully satisfactory algorithm is available.',\n",
    "'Machine learning is closely related to computational statistics, which focuses on making predictions using computers.\\\n",
    "The study of mathematical optimization delivers methods, theory and application domains to the field of machine learning.',\n",
    "'Machine learning involves computers discovering how they can perform tasks without being explicitly programmed to do so. \\\n",
    "It involves computers learning from data provided so that they carry out certain tasks.',\n",
    "'Machine learning approaches are traditionally divided into three broad categories, depending on the nature of the \"signal\"\\\n",
    "or \"feedback\" available to the learning system: Supervised, Unsupervised and Reinforcement',\n",
    "'Software engineering is the systematic application of engineering approaches to the development of software.\\\n",
    "Software engineering is a computing discipline.',\n",
    "'A software engineer creates programs based on logic for the computer to execute. A software engineer has to be more concerned\\\n",
    "about the correctness of the program in all the cases. Meanwhile, a data scientist is comfortable with uncertainty and variability.\\\n",
    "Developing a machine learning application is more iterative and explorative process than software engineering.'\n",
    "]\n",
    "\n",
    "documents_df=pd.DataFrame(documents,columns=['documents'])"
   ]
  },
  {
   "cell_type": "code",
   "execution_count": 13,
   "metadata": {},
   "outputs": [],
   "source": [
    "# loading pre-trained embeddings, each word is represented as a 300 dimensional vector\n",
    "W2V_PATH=\"GoogleNews-vectors-negative300.bin.gz\"\n",
    "model_w2v = gensim.models.KeyedVectors.load_word2vec_format(W2V_PATH, binary=True)"
   ]
  },
  {
   "cell_type": "code",
   "execution_count": 14,
   "metadata": {},
   "outputs": [
    {
     "data": {
      "text/plain": [
       "[('machines', 0.7677487730979919),\n",
       " ('wringer_washing', 0.5941920280456543),\n",
       " ('machinery', 0.5260839462280273),\n",
       " ('Automated_teller', 0.5225658416748047),\n",
       " ('roundish_pinhole_shape', 0.5103495121002197),\n",
       " ('Machine', 0.5063987374305725),\n",
       " ('extrude_liquefied_cornmeal', 0.5044564008712769),\n",
       " ('ma_chine', 0.4988497197628021),\n",
       " ('CNC_lathe', 0.49585121870040894),\n",
       " ('Computer_Numerically_Controlled', 0.4957743287086487)]"
      ]
     },
     "execution_count": 14,
     "metadata": {},
     "output_type": "execute_result"
    }
   ],
   "source": [
    "model_w2v.most_similar('machine')"
   ]
  },
  {
   "cell_type": "markdown",
   "metadata": {},
   "source": [
    "### Using Doc2Vec"
   ]
  },
  {
   "cell_type": "code",
   "execution_count": 17,
   "metadata": {},
   "outputs": [
    {
     "name": "stderr",
     "output_type": "stream",
     "text": [
      "[nltk_data] Downloading package punkt to\n",
      "[nltk_data]     C:\\Users\\Shreyas\\AppData\\Roaming\\nltk_data...\n",
      "[nltk_data]   Package punkt is already up-to-date!\n"
     ]
    },
    {
     "data": {
      "text/plain": [
       "True"
      ]
     },
     "execution_count": 17,
     "metadata": {},
     "output_type": "execute_result"
    }
   ],
   "source": [
    "from gensim.models.doc2vec import Doc2Vec, TaggedDocument\n",
    "from nltk.tokenize import word_tokenize\n",
    "import nltk\n",
    "nltk.download('punkt')"
   ]
  },
  {
   "cell_type": "code",
   "execution_count": 18,
   "metadata": {},
   "outputs": [],
   "source": [
    "tagged_data = [TaggedDocument(words=word_tokenize(doc), tags=[i]) for i, doc in enumerate(documents_df.documents)]\n",
    "model_d2v = Doc2Vec(vector_size=100,alpha=0.025, min_count=1)"
   ]
  },
  {
   "cell_type": "code",
   "execution_count": 19,
   "metadata": {},
   "outputs": [],
   "source": [
    "model_d2v.build_vocab(tagged_data)\n",
    "\n",
    "for epoch in range(100):\n",
    "    model_d2v.train(tagged_data,\n",
    "                total_examples=model_d2v.corpus_count,\n",
    "                epochs=model_d2v.epochs)"
   ]
  },
  {
   "cell_type": "code",
   "execution_count": 20,
   "metadata": {},
   "outputs": [],
   "source": [
    "document_embeddings=np.zeros((documents_df.shape[0],100))\n",
    "\n",
    "for i in range(len(document_embeddings)):\n",
    "    document_embeddings[i]=model_d2v.docvecs[i]\n",
    "    \n",
    "    \n",
    "pairwise_similarities=cosine_similarity(document_embeddings)"
   ]
  },
  {
   "cell_type": "code",
   "execution_count": 21,
   "metadata": {},
   "outputs": [
    {
     "data": {
      "text/plain": [
       "array([[1.        , 0.19253999, 0.26544734, 0.14571559, 0.32287185,\n",
       "        0.03162567],\n",
       "       [0.19253999, 1.        , 0.25993996, 0.31261803, 0.22999214,\n",
       "        0.18096651],\n",
       "       [0.26544734, 0.25993996, 1.        , 0.24850267, 0.19638185,\n",
       "        0.20111244],\n",
       "       [0.14571559, 0.31261803, 0.24850267, 1.        , 0.33226055,\n",
       "        0.16981034],\n",
       "       [0.32287185, 0.22999214, 0.19638185, 0.33226055, 1.        ,\n",
       "        0.40751086],\n",
       "       [0.03162567, 0.18096651, 0.20111244, 0.16981034, 0.40751086,\n",
       "        1.        ]])"
      ]
     },
     "execution_count": 21,
     "metadata": {},
     "output_type": "execute_result"
    }
   ],
   "source": [
    "pairwise_similarities"
   ]
  },
  {
   "cell_type": "code",
   "execution_count": 23,
   "metadata": {},
   "outputs": [],
   "source": [
    "def most_similar(doc_id,similarity_matrix,matrix):\n",
    "    print (f'Document: {documents_df.iloc[doc_id][\"documents\"]}')\n",
    "    print ('\\n')\n",
    "    print ('Similar Documents:')\n",
    "    if matrix=='Cosine Similarity':\n",
    "        similar_ix=np.argsort(similarity_matrix[doc_id])[::-1]\n",
    "    elif matrix=='Euclidean Distance':\n",
    "        similar_ix=np.argsort(similarity_matrix[doc_id])\n",
    "    for ix in similar_ix:\n",
    "        if ix==doc_id:\n",
    "            continue\n",
    "        print('\\n')\n",
    "        print (f'Document: {documents_df.iloc[ix][\"documents\"]}')\n",
    "        print (f'{matrix} : {similarity_matrix[doc_id][ix]}')"
   ]
  },
  {
   "cell_type": "code",
   "execution_count": 27,
   "metadata": {},
   "outputs": [
    {
     "name": "stdout",
     "output_type": "stream",
     "text": [
      "Document: Machine learning is the study of computer algorithms that improve automatically through experience.Machine learning algorithms build a mathematical model based on sample data, known as training data.The discipline of machine learning employs various approaches to teach computers to accomplish tasks where no fully satisfactory algorithm is available.\n",
      "\n",
      "\n",
      "Similar Documents:\n",
      "\n",
      "\n",
      "Document: Software engineering is the systematic application of engineering approaches to the development of software.Software engineering is a computing discipline.\n",
      "Cosine Similarity : 0.3228718543759047\n",
      "\n",
      "\n",
      "Document: Machine learning involves computers discovering how they can perform tasks without being explicitly programmed to do so. It involves computers learning from data provided so that they carry out certain tasks.\n",
      "Cosine Similarity : 0.265447341351164\n",
      "\n",
      "\n",
      "Document: Machine learning is closely related to computational statistics, which focuses on making predictions using computers.The study of mathematical optimization delivers methods, theory and application domains to the field of machine learning.\n",
      "Cosine Similarity : 0.1925399876742134\n",
      "\n",
      "\n",
      "Document: Machine learning approaches are traditionally divided into three broad categories, depending on the nature of the \"signal\"or \"feedback\" available to the learning system: Supervised, Unsupervised and Reinforcement\n",
      "Cosine Similarity : 0.1457155936447541\n",
      "\n",
      "\n",
      "Document: A software engineer creates programs based on logic for the computer to execute. A software engineer has to be more concernedabout the correctness of the program in all the cases. Meanwhile, a data scientist is comfortable with uncertainty and variability.Developing a machine learning application is more iterative and explorative process than software engineering.\n",
      "Cosine Similarity : 0.03162567157114108\n"
     ]
    }
   ],
   "source": [
    "most_similar(0,pairwise_similarities,'Cosine Similarity')"
   ]
  },
  {
   "cell_type": "markdown",
   "metadata": {},
   "source": [
    "### Applying Doc2Vec on Master Data"
   ]
  },
  {
   "cell_type": "code",
   "execution_count": 1,
   "metadata": {},
   "outputs": [
    {
     "name": "stdout",
     "output_type": "stream",
     "text": [
      "Requirement already satisfied: sentence-transformers in c:\\users\\shreyas\\anaconda3\\lib\\site-packages (2.2.0)\n",
      "Requirement already satisfied: tqdm in c:\\users\\shreyas\\anaconda3\\lib\\site-packages (from sentence-transformers) (4.48.2)\n",
      "Requirement already satisfied: scipy in c:\\users\\shreyas\\anaconda3\\lib\\site-packages (from sentence-transformers) (1.3.1)\n",
      "Requirement already satisfied: torchvision in c:\\users\\shreyas\\anaconda3\\lib\\site-packages (from sentence-transformers) (0.10.0)\n",
      "Requirement already satisfied: numpy in c:\\users\\shreyas\\anaconda3\\lib\\site-packages (from sentence-transformers) (1.21.5)\n",
      "Requirement already satisfied: torch>=1.6.0 in c:\\users\\shreyas\\anaconda3\\lib\\site-packages (from sentence-transformers) (1.9.0)\n",
      "Requirement already satisfied: huggingface-hub in c:\\users\\shreyas\\anaconda3\\lib\\site-packages (from sentence-transformers) (0.4.0)\n",
      "Requirement already satisfied: transformers<5.0.0,>=4.6.0 in c:\\users\\shreyas\\anaconda3\\lib\\site-packages (from sentence-transformers) (4.17.0)\n",
      "Requirement already satisfied: scikit-learn in c:\\users\\shreyas\\anaconda3\\lib\\site-packages (from sentence-transformers) (0.23.0)\n",
      "Requirement already satisfied: sentencepiece in c:\\users\\shreyas\\anaconda3\\lib\\site-packages (from sentence-transformers) (0.1.96)\n",
      "Requirement already satisfied: nltk in c:\\users\\shreyas\\anaconda3\\lib\\site-packages (from sentence-transformers) (3.4.5)\n",
      "Requirement already satisfied: pillow>=5.3.0 in c:\\users\\shreyas\\anaconda3\\lib\\site-packages (from torchvision->sentence-transformers) (6.2.0)\n",
      "Requirement already satisfied: typing-extensions in c:\\users\\shreyas\\anaconda3\\lib\\site-packages (from torch>=1.6.0->sentence-transformers) (3.7.4.3)\n",
      "Requirement already satisfied: filelock in c:\\users\\shreyas\\anaconda3\\lib\\site-packages (from huggingface-hub->sentence-transformers) (3.0.12)\n",
      "Requirement already satisfied: importlib-metadata; python_version < \"3.8\" in c:\\users\\shreyas\\anaconda3\\lib\\site-packages (from huggingface-hub->sentence-transformers) (4.11.3)\n",
      "Requirement already satisfied: packaging>=20.9 in c:\\users\\shreyas\\anaconda3\\lib\\site-packages (from huggingface-hub->sentence-transformers) (21.3)\n",
      "Requirement already satisfied: pyyaml in c:\\users\\shreyas\\anaconda3\\lib\\site-packages (from huggingface-hub->sentence-transformers) (5.1.2)\n",
      "Requirement already satisfied: requests in c:\\users\\shreyas\\anaconda3\\lib\\site-packages (from huggingface-hub->sentence-transformers) (2.22.0)\n",
      "Requirement already satisfied: sacremoses in c:\\users\\shreyas\\anaconda3\\lib\\site-packages (from transformers<5.0.0,>=4.6.0->sentence-transformers) (0.0.47)\n",
      "Requirement already satisfied: tokenizers!=0.11.3,>=0.11.1 in c:\\users\\shreyas\\anaconda3\\lib\\site-packages (from transformers<5.0.0,>=4.6.0->sentence-transformers) (0.11.6)\n",
      "Requirement already satisfied: regex!=2019.12.17 in c:\\users\\shreyas\\anaconda3\\lib\\site-packages (from transformers<5.0.0,>=4.6.0->sentence-transformers) (2022.3.2)\n",
      "Requirement already satisfied: joblib>=0.11 in c:\\users\\shreyas\\anaconda3\\lib\\site-packages (from scikit-learn->sentence-transformers) (0.13.2)\n",
      "Requirement already satisfied: threadpoolctl>=2.0.0 in c:\\users\\shreyas\\anaconda3\\lib\\site-packages (from scikit-learn->sentence-transformers) (2.0.0)\n",
      "Requirement already satisfied: six in c:\\users\\shreyas\\anaconda3\\lib\\site-packages (from nltk->sentence-transformers) (1.15.0)\n",
      "Requirement already satisfied: zipp>=0.5 in c:\\users\\shreyas\\anaconda3\\lib\\site-packages (from importlib-metadata; python_version < \"3.8\"->huggingface-hub->sentence-transformers) (0.6.0)\n",
      "Requirement already satisfied: pyparsing!=3.0.5,>=2.0.2 in c:\\users\\shreyas\\anaconda3\\lib\\site-packages (from packaging>=20.9->huggingface-hub->sentence-transformers) (2.4.2)\n",
      "Requirement already satisfied: urllib3!=1.25.0,!=1.25.1,<1.26,>=1.21.1 in c:\\users\\shreyas\\anaconda3\\lib\\site-packages (from requests->huggingface-hub->sentence-transformers) (1.24.2)\n",
      "Requirement already satisfied: certifi>=2017.4.17 in c:\\users\\shreyas\\anaconda3\\lib\\site-packages (from requests->huggingface-hub->sentence-transformers) (2019.9.11)\n",
      "Requirement already satisfied: idna<2.9,>=2.5 in c:\\users\\shreyas\\anaconda3\\lib\\site-packages (from requests->huggingface-hub->sentence-transformers) (2.8)\n",
      "Requirement already satisfied: chardet<3.1.0,>=3.0.2 in c:\\users\\shreyas\\anaconda3\\lib\\site-packages (from requests->huggingface-hub->sentence-transformers) (3.0.4)\n",
      "Requirement already satisfied: click in c:\\users\\shreyas\\anaconda3\\lib\\site-packages (from sacremoses->transformers<5.0.0,>=4.6.0->sentence-transformers) (7.0)\n",
      "Requirement already satisfied: more-itertools in c:\\users\\shreyas\\anaconda3\\lib\\site-packages (from zipp>=0.5->importlib-metadata; python_version < \"3.8\"->huggingface-hub->sentence-transformers) (7.2.0)\n"
     ]
    }
   ],
   "source": [
    "!pip install sentence-transformers"
   ]
  },
  {
   "cell_type": "code",
   "execution_count": 13,
   "metadata": {},
   "outputs": [],
   "source": [
    "from sentence_transformers import SentenceTransformer, util\n",
    "import torch"
   ]
  },
  {
   "cell_type": "code",
   "execution_count": 14,
   "metadata": {},
   "outputs": [],
   "source": [
    "sbert_model = SentenceTransformer('all-MiniLM-L6-v2')"
   ]
  },
  {
   "cell_type": "code",
   "execution_count": 7,
   "metadata": {},
   "outputs": [],
   "source": [
    "master_data = pd.read_excel('Master_Data.xlsx')"
   ]
  },
  {
   "cell_type": "code",
   "execution_count": 8,
   "metadata": {},
   "outputs": [
    {
     "data": {
      "text/html": [
       "<div>\n",
       "<style scoped>\n",
       "    .dataframe tbody tr th:only-of-type {\n",
       "        vertical-align: middle;\n",
       "    }\n",
       "\n",
       "    .dataframe tbody tr th {\n",
       "        vertical-align: top;\n",
       "    }\n",
       "\n",
       "    .dataframe thead th {\n",
       "        text-align: right;\n",
       "    }\n",
       "</style>\n",
       "<table border=\"1\" class=\"dataframe\">\n",
       "  <thead>\n",
       "    <tr style=\"text-align: right;\">\n",
       "      <th></th>\n",
       "      <th>QuestionId</th>\n",
       "      <th>Question</th>\n",
       "      <th>Answer</th>\n",
       "      <th>AnswerDetails1</th>\n",
       "      <th>AnswerDetails2</th>\n",
       "      <th>CategoryId</th>\n",
       "      <th>CategoryName</th>\n",
       "      <th>AppId</th>\n",
       "      <th>AppName</th>\n",
       "    </tr>\n",
       "  </thead>\n",
       "  <tbody>\n",
       "    <tr>\n",
       "      <td>0</td>\n",
       "      <td>21</td>\n",
       "      <td>password not working</td>\n",
       "      <td>Click on Login Assistance on Rekonnect Home pa...</td>\n",
       "      <td>https://rekonnect.in.kworld.kpmg.com/</td>\n",
       "      <td>https://rekonnect.in.kworld.kpmg.com/</td>\n",
       "      <td>1</td>\n",
       "      <td>Login / Password</td>\n",
       "      <td>1</td>\n",
       "      <td>Rekonnect</td>\n",
       "    </tr>\n",
       "    <tr>\n",
       "      <td>1</td>\n",
       "      <td>23</td>\n",
       "      <td>email for password reset not received</td>\n",
       "      <td>Please raise a Service Request on Support Cent...</td>\n",
       "      <td>http://supportcentral.in.kworld.kpmg.com/MDLSe...</td>\n",
       "      <td>http://supportcentral.in.kworld.kpmg.com/MDLSe...</td>\n",
       "      <td>1</td>\n",
       "      <td>Login / Password</td>\n",
       "      <td>1</td>\n",
       "      <td>Rekonnect</td>\n",
       "    </tr>\n",
       "    <tr>\n",
       "      <td>2</td>\n",
       "      <td>24</td>\n",
       "      <td>creation of new cost centre for ki</td>\n",
       "      <td>Requirements:   1. Business COO/HOD Approval  ...</td>\n",
       "      <td>NaN</td>\n",
       "      <td>NaN</td>\n",
       "      <td>2</td>\n",
       "      <td>Projects - Cost centre</td>\n",
       "      <td>1</td>\n",
       "      <td>Rekonnect</td>\n",
       "    </tr>\n",
       "    <tr>\n",
       "      <td>3</td>\n",
       "      <td>25</td>\n",
       "      <td>rename of cost centre for ki</td>\n",
       "      <td>Requirements:   1. Business COO/HOD Approval  ...</td>\n",
       "      <td>NaN</td>\n",
       "      <td>NaN</td>\n",
       "      <td>2</td>\n",
       "      <td>Projects - Cost centre</td>\n",
       "      <td>1</td>\n",
       "      <td>Rekonnect</td>\n",
       "    </tr>\n",
       "    <tr>\n",
       "      <td>4</td>\n",
       "      <td>26</td>\n",
       "      <td>project not appearing in the list</td>\n",
       "      <td>1. Project should be in Approved / Pre-Closeou...</td>\n",
       "      <td>ReKonnect Project Manager &gt; Online Project Adm...</td>\n",
       "      <td>https://rekonnect.in.kworld.kpmg.com/</td>\n",
       "      <td>3</td>\n",
       "      <td>Projects - Project administration</td>\n",
       "      <td>1</td>\n",
       "      <td>Rekonnect</td>\n",
       "    </tr>\n",
       "  </tbody>\n",
       "</table>\n",
       "</div>"
      ],
      "text/plain": [
       "   QuestionId                                Question  \\\n",
       "0          21                  password not working     \n",
       "1          23  email for password reset not received    \n",
       "2          24      creation of new cost centre for ki   \n",
       "3          25           rename of cost centre for ki    \n",
       "4          26     project not appearing in the list     \n",
       "\n",
       "                                              Answer  \\\n",
       "0  Click on Login Assistance on Rekonnect Home pa...   \n",
       "1  Please raise a Service Request on Support Cent...   \n",
       "2  Requirements:   1. Business COO/HOD Approval  ...   \n",
       "3  Requirements:   1. Business COO/HOD Approval  ...   \n",
       "4  1. Project should be in Approved / Pre-Closeou...   \n",
       "\n",
       "                                      AnswerDetails1  \\\n",
       "0              https://rekonnect.in.kworld.kpmg.com/   \n",
       "1  http://supportcentral.in.kworld.kpmg.com/MDLSe...   \n",
       "2                                                NaN   \n",
       "3                                                NaN   \n",
       "4  ReKonnect Project Manager > Online Project Adm...   \n",
       "\n",
       "                                      AnswerDetails2  CategoryId  \\\n",
       "0              https://rekonnect.in.kworld.kpmg.com/           1   \n",
       "1  http://supportcentral.in.kworld.kpmg.com/MDLSe...           1   \n",
       "2                                                NaN           2   \n",
       "3                                                NaN           2   \n",
       "4            https://rekonnect.in.kworld.kpmg.com/             3   \n",
       "\n",
       "                        CategoryName  AppId    AppName  \n",
       "0                   Login / Password      1  Rekonnect  \n",
       "1                   Login / Password      1  Rekonnect  \n",
       "2             Projects - Cost centre      1  Rekonnect  \n",
       "3             Projects - Cost centre      1  Rekonnect  \n",
       "4  Projects - Project administration      1  Rekonnect  "
      ]
     },
     "execution_count": 8,
     "metadata": {},
     "output_type": "execute_result"
    }
   ],
   "source": [
    "master_data.head()"
   ]
  },
  {
   "cell_type": "code",
   "execution_count": 9,
   "metadata": {},
   "outputs": [],
   "source": [
    "master_data['Question_Cleaned'] = master_data['Question'].apply(lambda x: x.lower().strip())"
   ]
  },
  {
   "cell_type": "code",
   "execution_count": 10,
   "metadata": {},
   "outputs": [],
   "source": [
    "list_questions = list(master_data['Question_Cleaned'])"
   ]
  },
  {
   "cell_type": "code",
   "execution_count": 11,
   "metadata": {},
   "outputs": [
    {
     "data": {
      "text/plain": [
       "['password not working',\n",
       " 'email for password reset not received',\n",
       " 'creation of new cost centre for ki',\n",
       " 'rename of cost centre for ki',\n",
       " 'project not appearing in the list',\n",
       " 'hsn not appearing',\n",
       " 'invoicing request is showing in error',\n",
       " 'invoice pdf not received',\n",
       " 'error in submission of an event through the online event creation screen',\n",
       " 'event is showing pending approval but pending approver name is not getting displayed']"
      ]
     },
     "execution_count": 11,
     "metadata": {},
     "output_type": "execute_result"
    }
   ],
   "source": [
    "list_questions[:10]"
   ]
  },
  {
   "cell_type": "code",
   "execution_count": 15,
   "metadata": {},
   "outputs": [],
   "source": [
    "corpus_embeddings = sbert_model.encode(list_questions, convert_to_tensor=True)"
   ]
  },
  {
   "cell_type": "code",
   "execution_count": 16,
   "metadata": {},
   "outputs": [],
   "source": [
    "user_query = \"some issue when invoice request is raised\""
   ]
  },
  {
   "cell_type": "code",
   "execution_count": 18,
   "metadata": {},
   "outputs": [],
   "source": [
    "query_embedding = sbert_model.encode(user_query, convert_to_tensor=True)"
   ]
  },
  {
   "cell_type": "code",
   "execution_count": 20,
   "metadata": {},
   "outputs": [],
   "source": [
    "# We use cosine-similarity and torch.topk to find the highest 5 scores\n",
    "cos_scores = util.cos_sim(query_embedding, corpus_embeddings)[0]\n",
    "top_results = torch.topk(cos_scores, k=5)"
   ]
  },
  {
   "cell_type": "code",
   "execution_count": 21,
   "metadata": {},
   "outputs": [
    {
     "data": {
      "text/plain": [
       "tensor([0.0447, 0.1449, 0.1177, 0.1104, 0.0869, 0.0461, 0.7344, 0.6493, 0.2257,\n",
       "        0.1769, 0.1483, 0.1645, 0.2149, 0.2276, 0.0569, 0.1955, 0.3783, 0.2858,\n",
       "        0.2566, 0.3409, 0.3436, 0.2340, 0.0868, 0.2899, 0.1905, 0.2953, 0.1338,\n",
       "        0.1521, 0.1803, 0.1349, 0.1561, 0.2593, 0.0569])"
      ]
     },
     "execution_count": 21,
     "metadata": {},
     "output_type": "execute_result"
    }
   ],
   "source": [
    "cos_scores"
   ]
  },
  {
   "cell_type": "code",
   "execution_count": 23,
   "metadata": {},
   "outputs": [
    {
     "data": {
      "text/plain": [
       "torch.return_types.topk(\n",
       "values=tensor([0.7344, 0.6493, 0.3783, 0.3436, 0.3409]),\n",
       "indices=tensor([ 6,  7, 16, 20, 19]))"
      ]
     },
     "execution_count": 23,
     "metadata": {},
     "output_type": "execute_result"
    }
   ],
   "source": [
    "top_results"
   ]
  },
  {
   "cell_type": "code",
   "execution_count": 25,
   "metadata": {},
   "outputs": [
    {
     "name": "stdout",
     "output_type": "stream",
     "text": [
      "Query: some issue when invoice request is raised\n",
      "\n",
      "Top 5 most similar sentences in corpus:\n",
      "invoicing request is showing in error (Score: 0.7344)\n",
      "invoice pdf not received (Score: 0.6493)\n",
      "is hard copy of supporting bills to be submitted for expense claims (Score: 0.3783)\n",
      "i have misplaced my hardcopy receipt of the expense claim what should i upload on concur to submit my claim (Score: 0.3436)\n",
      "how can i access the scanned copy of supporting bills for my past claims submitted on concur (Score: 0.3409)\n"
     ]
    }
   ],
   "source": [
    "print(\"Query:\", user_query)\n",
    "print(\"\\nTop 5 most similar sentences in corpus:\")\n",
    "\n",
    "for score, idx in zip(top_results[0], top_results[1]):\n",
    "    print(list_questions[idx], \"(Score: {:.4f})\".format(score))"
   ]
  },
  {
   "cell_type": "markdown",
   "metadata": {},
   "source": [
    "## Asymmetric Semantic Search"
   ]
  },
  {
   "cell_type": "code",
   "execution_count": 15,
   "metadata": {},
   "outputs": [],
   "source": [
    "from sentence_transformers import SentenceTransformer, util\n",
    "import torch"
   ]
  },
  {
   "cell_type": "code",
   "execution_count": 27,
   "metadata": {},
   "outputs": [
    {
     "name": "stderr",
     "output_type": "stream",
     "text": [
      "WARNING:root:No sentence-transformers model found with name D://NLP//Document_Similarity//msmarco-distilroberta-base-v2//0_Transformer//. Creating a new one with MEAN pooling.\n"
     ]
    }
   ],
   "source": [
    "model = SentenceTransformer('D://NLP//Document_Similarity//msmarco-distilroberta-base-v2//0_Transformer//')"
   ]
  },
  {
   "cell_type": "code",
   "execution_count": 5,
   "metadata": {},
   "outputs": [
    {
     "name": "stderr",
     "output_type": "stream",
     "text": [
      "WARNING:root:No sentence-transformers model found with name D://NLP//Document_Similarity//bert-base-nli-mean-tokens//0_BERT//. Creating a new one with MEAN pooling.\n",
      "Some weights of the model checkpoint at D://NLP//Document_Similarity//bert-base-nli-mean-tokens//0_BERT// were not used when initializing BertModel: ['classifier.weight', 'classifier.bias']\n",
      "- This IS expected if you are initializing BertModel from the checkpoint of a model trained on another task or with another architecture (e.g. initializing a BertForSequenceClassification model from a BertForPreTraining model).\n",
      "- This IS NOT expected if you are initializing BertModel from the checkpoint of a model that you expect to be exactly identical (initializing a BertForSequenceClassification model from a BertForSequenceClassification model).\n"
     ]
    }
   ],
   "source": [
    "sbert_model = SentenceTransformer('D://NLP//Document_Similarity//bert-base-nli-mean-tokens//0_BERT//')"
   ]
  },
  {
   "cell_type": "code",
   "execution_count": 6,
   "metadata": {},
   "outputs": [],
   "source": [
    "master_data = pd.read_excel('Master_Data.xlsx')"
   ]
  },
  {
   "cell_type": "code",
   "execution_count": 7,
   "metadata": {},
   "outputs": [
    {
     "data": {
      "text/html": [
       "<div>\n",
       "<style scoped>\n",
       "    .dataframe tbody tr th:only-of-type {\n",
       "        vertical-align: middle;\n",
       "    }\n",
       "\n",
       "    .dataframe tbody tr th {\n",
       "        vertical-align: top;\n",
       "    }\n",
       "\n",
       "    .dataframe thead th {\n",
       "        text-align: right;\n",
       "    }\n",
       "</style>\n",
       "<table border=\"1\" class=\"dataframe\">\n",
       "  <thead>\n",
       "    <tr style=\"text-align: right;\">\n",
       "      <th></th>\n",
       "      <th>QuestionId</th>\n",
       "      <th>Question</th>\n",
       "      <th>Answer</th>\n",
       "      <th>AnswerDetails1</th>\n",
       "      <th>AnswerDetails2</th>\n",
       "      <th>CategoryId</th>\n",
       "      <th>CategoryName</th>\n",
       "      <th>AppId</th>\n",
       "      <th>AppName</th>\n",
       "    </tr>\n",
       "  </thead>\n",
       "  <tbody>\n",
       "    <tr>\n",
       "      <td>0</td>\n",
       "      <td>21</td>\n",
       "      <td>password not working</td>\n",
       "      <td>Click on Login Assistance on Rekonnect Home pa...</td>\n",
       "      <td>https://rekonnect.in.kworld.kpmg.com/</td>\n",
       "      <td>https://rekonnect.in.kworld.kpmg.com/</td>\n",
       "      <td>1</td>\n",
       "      <td>Login / Password</td>\n",
       "      <td>1</td>\n",
       "      <td>Rekonnect</td>\n",
       "    </tr>\n",
       "    <tr>\n",
       "      <td>1</td>\n",
       "      <td>23</td>\n",
       "      <td>email for password reset not received</td>\n",
       "      <td>Please raise a Service Request on Support Cent...</td>\n",
       "      <td>http://supportcentral.in.kworld.kpmg.com/MDLSe...</td>\n",
       "      <td>http://supportcentral.in.kworld.kpmg.com/MDLSe...</td>\n",
       "      <td>1</td>\n",
       "      <td>Login / Password</td>\n",
       "      <td>1</td>\n",
       "      <td>Rekonnect</td>\n",
       "    </tr>\n",
       "    <tr>\n",
       "      <td>2</td>\n",
       "      <td>24</td>\n",
       "      <td>creation of new cost centre for ki</td>\n",
       "      <td>Requirements:   1. Business COO/HOD Approval  ...</td>\n",
       "      <td>NaN</td>\n",
       "      <td>NaN</td>\n",
       "      <td>2</td>\n",
       "      <td>Projects - Cost centre</td>\n",
       "      <td>1</td>\n",
       "      <td>Rekonnect</td>\n",
       "    </tr>\n",
       "    <tr>\n",
       "      <td>3</td>\n",
       "      <td>25</td>\n",
       "      <td>rename of cost centre for ki</td>\n",
       "      <td>Requirements:   1. Business COO/HOD Approval  ...</td>\n",
       "      <td>NaN</td>\n",
       "      <td>NaN</td>\n",
       "      <td>2</td>\n",
       "      <td>Projects - Cost centre</td>\n",
       "      <td>1</td>\n",
       "      <td>Rekonnect</td>\n",
       "    </tr>\n",
       "    <tr>\n",
       "      <td>4</td>\n",
       "      <td>26</td>\n",
       "      <td>project not appearing in the list</td>\n",
       "      <td>1. Project should be in Approved / Pre-Closeou...</td>\n",
       "      <td>ReKonnect Project Manager &gt; Online Project Adm...</td>\n",
       "      <td>https://rekonnect.in.kworld.kpmg.com/</td>\n",
       "      <td>3</td>\n",
       "      <td>Projects - Project administration</td>\n",
       "      <td>1</td>\n",
       "      <td>Rekonnect</td>\n",
       "    </tr>\n",
       "  </tbody>\n",
       "</table>\n",
       "</div>"
      ],
      "text/plain": [
       "   QuestionId                                Question  \\\n",
       "0          21                  password not working     \n",
       "1          23  email for password reset not received    \n",
       "2          24      creation of new cost centre for ki   \n",
       "3          25           rename of cost centre for ki    \n",
       "4          26     project not appearing in the list     \n",
       "\n",
       "                                              Answer  \\\n",
       "0  Click on Login Assistance on Rekonnect Home pa...   \n",
       "1  Please raise a Service Request on Support Cent...   \n",
       "2  Requirements:   1. Business COO/HOD Approval  ...   \n",
       "3  Requirements:   1. Business COO/HOD Approval  ...   \n",
       "4  1. Project should be in Approved / Pre-Closeou...   \n",
       "\n",
       "                                      AnswerDetails1  \\\n",
       "0              https://rekonnect.in.kworld.kpmg.com/   \n",
       "1  http://supportcentral.in.kworld.kpmg.com/MDLSe...   \n",
       "2                                                NaN   \n",
       "3                                                NaN   \n",
       "4  ReKonnect Project Manager > Online Project Adm...   \n",
       "\n",
       "                                      AnswerDetails2  CategoryId  \\\n",
       "0              https://rekonnect.in.kworld.kpmg.com/           1   \n",
       "1  http://supportcentral.in.kworld.kpmg.com/MDLSe...           1   \n",
       "2                                                NaN           2   \n",
       "3                                                NaN           2   \n",
       "4            https://rekonnect.in.kworld.kpmg.com/             3   \n",
       "\n",
       "                        CategoryName  AppId    AppName  \n",
       "0                   Login / Password      1  Rekonnect  \n",
       "1                   Login / Password      1  Rekonnect  \n",
       "2             Projects - Cost centre      1  Rekonnect  \n",
       "3             Projects - Cost centre      1  Rekonnect  \n",
       "4  Projects - Project administration      1  Rekonnect  "
      ]
     },
     "execution_count": 7,
     "metadata": {},
     "output_type": "execute_result"
    }
   ],
   "source": [
    "master_data.head()"
   ]
  },
  {
   "cell_type": "code",
   "execution_count": 8,
   "metadata": {},
   "outputs": [],
   "source": [
    "master_data['Question_Cleaned'] = master_data['Question'].apply(lambda x: x.lower().strip())"
   ]
  },
  {
   "cell_type": "code",
   "execution_count": 9,
   "metadata": {},
   "outputs": [],
   "source": [
    "list_questions = list(master_data['Question_Cleaned'])"
   ]
  },
  {
   "cell_type": "code",
   "execution_count": 10,
   "metadata": {},
   "outputs": [
    {
     "data": {
      "text/plain": [
       "['password not working',\n",
       " 'email for password reset not received',\n",
       " 'creation of new cost centre for ki',\n",
       " 'rename of cost centre for ki',\n",
       " 'project not appearing in the list',\n",
       " 'hsn not appearing',\n",
       " 'invoicing request is showing in error',\n",
       " 'invoice pdf not received',\n",
       " 'error in submission of an event through the online event creation screen',\n",
       " 'event is showing pending approval but pending approver name is not getting displayed']"
      ]
     },
     "execution_count": 10,
     "metadata": {},
     "output_type": "execute_result"
    }
   ],
   "source": [
    "list_questions[:10]"
   ]
  },
  {
   "cell_type": "code",
   "execution_count": 11,
   "metadata": {},
   "outputs": [],
   "source": [
    "corpus_embeddings_symmetric = sbert_model.encode(list_questions, convert_to_tensor=True)"
   ]
  },
  {
   "cell_type": "code",
   "execution_count": 12,
   "metadata": {},
   "outputs": [],
   "source": [
    "user_query = \"login issues in rekonnect\""
   ]
  },
  {
   "cell_type": "code",
   "execution_count": 13,
   "metadata": {},
   "outputs": [],
   "source": [
    "query_embedding_symmetric = sbert_model.encode(user_query, convert_to_tensor=True)"
   ]
  },
  {
   "cell_type": "code",
   "execution_count": 17,
   "metadata": {},
   "outputs": [],
   "source": [
    "# We use cosine-similarity and torch.topk to find the highest 5 scores\n",
    "cos_scores_symmetric = util.cos_sim(query_embedding_symmetric, corpus_embeddings_symmetric)[0]\n",
    "top_results_symmetric = torch.topk(cos_scores_symmetric, k=5)"
   ]
  },
  {
   "cell_type": "code",
   "execution_count": 18,
   "metadata": {},
   "outputs": [
    {
     "data": {
      "text/plain": [
       "tensor([0.4964, 0.4708, 0.6595, 0.6720, 0.4701, 0.3695, 0.6656, 0.4515, 0.7538,\n",
       "        0.4748, 0.5367, 0.4679, 0.8236, 0.6046, 0.7695, 0.5285, 0.5988, 0.5484,\n",
       "        0.5797, 0.5403, 0.5480, 0.2796, 0.5913, 0.5754, 0.5645, 0.5988, 0.4576,\n",
       "        0.5727, 0.6208, 0.5398, 0.5246, 0.5389, 0.5222])"
      ]
     },
     "execution_count": 18,
     "metadata": {},
     "output_type": "execute_result"
    }
   ],
   "source": [
    "cos_scores_symmetric"
   ]
  },
  {
   "cell_type": "code",
   "execution_count": 19,
   "metadata": {},
   "outputs": [
    {
     "data": {
      "text/plain": [
       "torch.return_types.topk(\n",
       "values=tensor([0.8236, 0.7695, 0.7538, 0.6720, 0.6656]),\n",
       "indices=tensor([12, 14,  8,  3,  6]))"
      ]
     },
     "execution_count": 19,
     "metadata": {},
     "output_type": "execute_result"
    }
   ],
   "source": [
    "top_results_symmetric"
   ]
  },
  {
   "cell_type": "code",
   "execution_count": 20,
   "metadata": {},
   "outputs": [
    {
     "name": "stdout",
     "output_type": "stream",
     "text": [
      "Query: login issues in rekonnect\n",
      "\n",
      "Top 5 most similar sentences in corpus:\n",
      "data issue in reports (Score: 0.8236)\n",
      "how to access concur website (Score: 0.7695)\n",
      "error in submission of an event through the online event creation screen (Score: 0.7538)\n",
      "rename of cost centre for ki (Score: 0.6720)\n",
      "invoicing request is showing in error (Score: 0.6656)\n"
     ]
    }
   ],
   "source": [
    "print(\"Query:\", user_query)\n",
    "print(\"\\nTop 5 most similar sentences in corpus:\")\n",
    "\n",
    "for score, idx in zip(top_results_symmetric[0], top_results_symmetric[1]):\n",
    "    print(list_questions[idx], \"(Score: {:.4f})\".format(score))"
   ]
  },
  {
   "cell_type": "code",
   "execution_count": 28,
   "metadata": {},
   "outputs": [],
   "source": [
    "# Create corpus embeddings of asymmetric semantic search...\n",
    "corpus_embeddings_asymmetric = model.encode(list_questions, convert_to_tensor=True)"
   ]
  },
  {
   "cell_type": "code",
   "execution_count": 29,
   "metadata": {},
   "outputs": [],
   "source": [
    "# Create a query embedding using asymmetric pre-trained model...\n",
    "query_embedding_asymmetric = model.encode(user_query, convert_to_tensor=True)"
   ]
  },
  {
   "cell_type": "code",
   "execution_count": 30,
   "metadata": {},
   "outputs": [],
   "source": [
    "# We use cosine-similarity and torch.topk to find the highest 5 scores\n",
    "cos_scores_asymmetric = util.cos_sim(query_embedding_asymmetric, corpus_embeddings_asymmetric)[0]\n",
    "top_results_asymmetric = torch.topk(cos_scores_asymmetric, k=5)"
   ]
  },
  {
   "cell_type": "code",
   "execution_count": 31,
   "metadata": {},
   "outputs": [
    {
     "data": {
      "text/plain": [
       "tensor([ 0.4641,  0.3808,  0.1301,  0.1882,  0.0976,  0.2175,  0.3154,  0.1506,\n",
       "         0.3544,  0.1901,  0.2710,  0.7011,  0.2081,  0.2147,  0.2432,  0.0734,\n",
       "         0.0720,  0.1000,  0.0282,  0.2107,  0.2548, -0.0399,  0.1833,  0.1417,\n",
       "         0.0611,  0.2708,  0.1094,  0.1234,  0.1086,  0.2507,  0.1414,  0.1481,\n",
       "         0.2449])"
      ]
     },
     "execution_count": 31,
     "metadata": {},
     "output_type": "execute_result"
    }
   ],
   "source": [
    "cos_scores_asymmetric"
   ]
  },
  {
   "cell_type": "code",
   "execution_count": 25,
   "metadata": {},
   "outputs": [
    {
     "data": {
      "text/plain": [
       "torch.return_types.topk(\n",
       "values=tensor([0.7011, 0.4641, 0.3808, 0.3544, 0.3154]),\n",
       "indices=tensor([11,  0,  1,  8,  6]))"
      ]
     },
     "execution_count": 25,
     "metadata": {},
     "output_type": "execute_result"
    }
   ],
   "source": [
    "top_results_asymmetric"
   ]
  },
  {
   "cell_type": "code",
   "execution_count": 32,
   "metadata": {},
   "outputs": [
    {
     "name": "stdout",
     "output_type": "stream",
     "text": [
      "Query: login issues in rekonnect\n",
      "\n",
      "Top 5 most similar sentences in corpus:\n",
      "not able to open rekonnect forms to run reports (Score: 0.7011)\n",
      "password not working (Score: 0.4641)\n",
      "email for password reset not received (Score: 0.3808)\n",
      "error in submission of an event through the online event creation screen (Score: 0.3544)\n",
      "invoicing request is showing in error (Score: 0.3154)\n"
     ]
    }
   ],
   "source": [
    "print(\"Query:\", user_query)\n",
    "print(\"\\nTop 5 most similar sentences in corpus:\")\n",
    "\n",
    "for score, idx in zip(top_results_asymmetric[0], top_results_asymmetric[1]):\n",
    "    print(list_questions[idx], \"(Score: {:.4f})\".format(score))"
   ]
  },
  {
   "cell_type": "markdown",
   "metadata": {},
   "source": [
    "--------------------------------------------------------------------------------------------------------------------------"
   ]
  }
 ],
 "metadata": {
  "kernelspec": {
   "display_name": "Python 3",
   "language": "python",
   "name": "python3"
  },
  "language_info": {
   "codemirror_mode": {
    "name": "ipython",
    "version": 3
   },
   "file_extension": ".py",
   "mimetype": "text/x-python",
   "name": "python",
   "nbconvert_exporter": "python",
   "pygments_lexer": "ipython3",
   "version": "3.7.4"
  }
 },
 "nbformat": 4,
 "nbformat_minor": 2
}
